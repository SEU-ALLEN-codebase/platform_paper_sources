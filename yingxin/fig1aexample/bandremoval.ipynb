{
 "cells": [
  {
   "cell_type": "code",
   "execution_count": 18,
   "metadata": {},
   "outputs": [],
   "source": [
    "import os,glob\n",
    "import time\n",
    "import copy\n",
    "import math\n",
    "\n",
    "import numpy as np\n",
    "import pandas as pd\n",
    "\n",
    "import SimpleITK as sitk\n",
    "import imageio\n",
    "\n",
    "from file_io import load_image\n",
    "\n",
    "def remove_bg(imgfile,bgcolor='black'):\n",
    "    image = imageio.imread(imgfile).astype(np.uint8)\n",
    "    print(image.shape)\n",
    "    if len(image.shape)==2:\n",
    "        bg = image==0\n",
    "        print(len(np.nonzero(bg)[0]))\n",
    "        array = 255*np.ones(list(image.shape)+[4]).astype(np.uint8)\n",
    "        array[:,:,0] = image\n",
    "        array[:,:,1] = image\n",
    "        array[:,:,2] = image\n",
    "        array[bg,3] = 0\n",
    "        imageio.imsave(imgfile.replace('.png','_rmbg.png'),array)\n",
    "        print(array.shape)\n",
    "    return"
   ]
  },
  {
   "cell_type": "code",
   "execution_count": 36,
   "metadata": {},
   "outputs": [
    {
     "name": "stdout",
     "output_type": "stream",
     "text": [
      "190891.v3draw 1\n",
      "(782, 503)\n",
      "167930\n",
      "(782, 503, 4)\n",
      "(456, 528)\n",
      "76067\n",
      "(456, 528, 4)\n"
     ]
    }
   ],
   "source": [
    "brain_list = ['194069.v3draw','190891.v3draw','190827.v3draw','WHOLE_mouse_Brain_AZ10_SR3B_6_A_647.v3draw','A3_16um_final.v3draw','Ex_642_Em_680.v3draw']\n",
    "axis_list = [2,1,1,0,0,0]\n",
    "raw_list = []\n",
    "raw_annotation_list = []\n",
    "raw_removed_list = []\n",
    "register_list = []\n",
    "register_annotation = load_image('../assets/annotation_25.nrrd') .astype(np.uint16)\n",
    "register_removed_list = []\n",
    "for i,j in zip(brain_list,axis_list):\n",
    "    print(i,j)\n",
    "    original_file = '/PBshare/SEU-ALLEN/Users/ZhixiYun/data/registration/brainimg/CH2_Brains_DS_BE/' + i\n",
    "    raw_file = './raw/' + i\n",
    "    raw_list.append(raw_file)\n",
    "    #os.system(f'cp {original_file} {raw_file}')\n",
    "    \n",
    "    original_annotation_file = '/PBshare/SEU-ALLEN/Users/ZhixiYun/data/registration/Inverse/' + i\n",
    "    raw_annotation_file = './raw_annotation/' + i\n",
    "    raw_annotation_list.append(raw_annotation_file)\n",
    "    #os.system(f'cp {original_annotation_file} {raw_annatation_file}')\n",
    "    \n",
    "    raw_removed_file = './raw_removed/' + i[:-7] + '.tiff'\n",
    "    raw_removed_list.append(raw_removed_file)\n",
    "    raw = load_image(raw_file)[0].astype(np.uint8)\n",
    "    raw_annotation = load_image(raw_annotation_file)[0].astype(np.uint16)\n",
    "    raw[raw_annotation==0] = 0\n",
    "    raw_removed = sitk.GetImageFromArray(raw)\n",
    "    sitk.WriteImage(raw_removed, raw_removed_file)\n",
    "    \n",
    "    section = raw.max(axis=j)\n",
    "    imgfile = raw_removed_file.replace('.tiff','.png')\n",
    "    imageio.imsave(imgfile,section)\n",
    "    remove_bg(imgfile)\n",
    "    \n",
    "    local_file = '/PBshare/SEU-ALLEN/Users/ZhixiYun/data/registration/brainimg/Local_noseg/' + i[:-7] + '/' + i[:-7] + '_local_registered_image.v3draw'\n",
    "    register_file = './register/' + i\n",
    "    register_list.append(register_file)\n",
    "    os.system(f'cp {local_file} {register_file}')\n",
    " \n",
    "    register_removed_file = './register_removed/' + i[:-7] + '.tiff'\n",
    "    register_removed_list.append(register_removed_file)\n",
    "    register = load_image(register_file)[0].astype(np.uint8)\n",
    "    register[register_annotation==0] = 0\n",
    "    register_removed = sitk.GetImageFromArray(register)\n",
    "    sitk.WriteImage(register_removed, register_removed_file)    \n",
    "\n",
    "    section = register.max(axis=1)\n",
    "    imgfile = register_removed_file.replace('.tiff','.png')\n",
    "    imageio.imsave(imgfile,section)\n",
    "    remove_bg(imgfile)\n",
    "    "
   ]
  }
 ],
 "metadata": {
  "kernelspec": {
   "display_name": "Python 3",
   "language": "python",
   "name": "python3"
  },
  "language_info": {
   "codemirror_mode": {
    "name": "ipython",
    "version": 3
   },
   "file_extension": ".py",
   "mimetype": "text/x-python",
   "name": "python",
   "nbconvert_exporter": "python",
   "pygments_lexer": "ipython3",
   "version": "3.8.5"
  }
 },
 "nbformat": 4,
 "nbformat_minor": 4
}
