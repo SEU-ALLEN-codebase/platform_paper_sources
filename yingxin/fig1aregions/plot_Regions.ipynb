{
 "cells": [
  {
   "cell_type": "code",
   "execution_count": 1,
   "metadata": {},
   "outputs": [],
   "source": [
    "import os\n",
    "import pandas as pd\n",
    "import numpy as np\n",
    "from tree import load_level_u32csv,get_region_name_list,get_region_rgb_list"
   ]
  },
  {
   "cell_type": "code",
   "execution_count": 2,
   "metadata": {},
   "outputs": [
    {
     "data": {
      "text/html": [
       "<div>\n",
       "<style scoped>\n",
       "    .dataframe tbody tr th:only-of-type {\n",
       "        vertical-align: middle;\n",
       "    }\n",
       "\n",
       "    .dataframe tbody tr th {\n",
       "        vertical-align: top;\n",
       "    }\n",
       "\n",
       "    .dataframe thead th {\n",
       "        text-align: right;\n",
       "    }\n",
       "</style>\n",
       "<table border=\"1\" class=\"dataframe\">\n",
       "  <thead>\n",
       "    <tr style=\"text-align: right;\">\n",
       "      <th></th>\n",
       "      <th>n1327_u32_id</th>\n",
       "      <th>n671_u32_id</th>\n",
       "      <th>n316_u32_id</th>\n",
       "      <th>n4_u32_id</th>\n",
       "    </tr>\n",
       "  </thead>\n",
       "  <tbody>\n",
       "    <tr>\n",
       "      <th>0</th>\n",
       "      <td>997</td>\n",
       "      <td>0</td>\n",
       "      <td>0</td>\n",
       "      <td>0</td>\n",
       "    </tr>\n",
       "    <tr>\n",
       "      <th>1</th>\n",
       "      <td>8</td>\n",
       "      <td>0</td>\n",
       "      <td>0</td>\n",
       "      <td>0</td>\n",
       "    </tr>\n",
       "    <tr>\n",
       "      <th>2</th>\n",
       "      <td>567</td>\n",
       "      <td>0</td>\n",
       "      <td>0</td>\n",
       "      <td>0</td>\n",
       "    </tr>\n",
       "    <tr>\n",
       "      <th>3</th>\n",
       "      <td>688</td>\n",
       "      <td>0</td>\n",
       "      <td>0</td>\n",
       "      <td>688</td>\n",
       "    </tr>\n",
       "    <tr>\n",
       "      <th>4</th>\n",
       "      <td>695</td>\n",
       "      <td>0</td>\n",
       "      <td>0</td>\n",
       "      <td>688</td>\n",
       "    </tr>\n",
       "    <tr>\n",
       "      <th>...</th>\n",
       "      <td>...</td>\n",
       "      <td>...</td>\n",
       "      <td>...</td>\n",
       "      <td>...</td>\n",
       "    </tr>\n",
       "    <tr>\n",
       "      <th>1322</th>\n",
       "      <td>49</td>\n",
       "      <td>0</td>\n",
       "      <td>0</td>\n",
       "      <td>0</td>\n",
       "    </tr>\n",
       "    <tr>\n",
       "      <th>1323</th>\n",
       "      <td>57</td>\n",
       "      <td>0</td>\n",
       "      <td>0</td>\n",
       "      <td>0</td>\n",
       "    </tr>\n",
       "    <tr>\n",
       "      <th>1324</th>\n",
       "      <td>65</td>\n",
       "      <td>0</td>\n",
       "      <td>0</td>\n",
       "      <td>0</td>\n",
       "    </tr>\n",
       "    <tr>\n",
       "      <th>1325</th>\n",
       "      <td>624</td>\n",
       "      <td>0</td>\n",
       "      <td>0</td>\n",
       "      <td>0</td>\n",
       "    </tr>\n",
       "    <tr>\n",
       "      <th>1326</th>\n",
       "      <td>304325711</td>\n",
       "      <td>0</td>\n",
       "      <td>0</td>\n",
       "      <td>0</td>\n",
       "    </tr>\n",
       "  </tbody>\n",
       "</table>\n",
       "<p>1327 rows × 4 columns</p>\n",
       "</div>"
      ],
      "text/plain": [
       "      n1327_u32_id  n671_u32_id  n316_u32_id  n4_u32_id\n",
       "0              997            0            0          0\n",
       "1                8            0            0          0\n",
       "2              567            0            0          0\n",
       "3              688            0            0        688\n",
       "4              695            0            0        688\n",
       "...            ...          ...          ...        ...\n",
       "1322            49            0            0          0\n",
       "1323            57            0            0          0\n",
       "1324            65            0            0          0\n",
       "1325           624            0            0          0\n",
       "1326     304325711            0            0          0\n",
       "\n",
       "[1327 rows x 4 columns]"
      ]
     },
     "execution_count": 2,
     "metadata": {},
     "output_type": "execute_result"
    }
   ],
   "source": [
    "level_df = load_level_u32csv()\n",
    "level_df"
   ]
  },
  {
   "cell_type": "code",
   "execution_count": 3,
   "metadata": {
    "scrolled": true
   },
   "outputs": [
    {
     "name": "stdout",
     "output_type": "stream",
     "text": [
      "315 [1, 4, 7, 12, 15, 19, 23, 27, 30, 35, 38, 39, 44, 48, 56, 58, 59, 63, 64, 66, 72, 75, 83, 88, 91, 96, 100, 101, 104, 106, 111, 115, 118, 119, 126, 127, 128, 131, 133, 135, 136, 146, 147, 149, 151, 155, 159, 162, 169, 170, 173, 177, 178, 181, 184, 186, 189, 194, 197, 202, 203, 206, 207, 209, 210, 214, 215, 217, 218, 222, 223, 225, 226, 230, 231, 235, 238, 246, 250, 255, 258, 262, 263, 266, 271, 272, 280, 286, 287, 292, 294, 295, 298, 302, 307, 310, 318, 319, 321, 325, 329, 332, 333, 337, 338, 342, 345, 347, 350, 351, 353, 356, 358, 361, 362, 364, 366, 369, 372, 374, 378, 381, 382, 385, 390, 394, 395, 398, 402, 403, 409, 414, 417, 422, 423, 425, 429, 437, 445, 452, 460, 463, 470, 475, 483, 491, 502, 507, 515, 523, 525, 531, 533, 534, 536, 541, 564, 566, 574, 575, 576, 580, 581, 583, 589, 591, 596, 599, 604, 609, 612, 614, 616, 619, 621, 628, 629, 634, 639, 642, 647, 651, 653, 661, 672, 677, 679, 685, 689, 693, 706, 711, 718, 723, 725, 726, 731, 733, 741, 746, 749, 754, 757, 763, 765, 773, 780, 781, 788, 795, 797, 814, 830, 839, 843, 846, 852, 859, 867, 872, 874, 879, 880, 886, 894, 895, 898, 903, 907, 912, 914, 918, 920, 922, 926, 928, 930, 931, 936, 944, 946, 951, 952, 957, 961, 966, 968, 970, 972, 975, 978, 980, 982, 985, 989, 993, 998, 1002, 1004, 1007, 1011, 1017, 1018, 1020, 1022, 1025, 1027, 1029, 1031, 1033, 1037, 1039, 1041, 1044, 1048, 1049, 1052, 1057, 1061, 1069, 1077, 1084, 1093, 1098, 1105, 1107, 1109, 1113, 1120, 1126, 10671, 182305689, 312782546, 312782574, 312782628, 484682470, 484682508, 549009211, 549009215, 549009219, 549009223, 549009227, 560581559, 560581563, 563807435, 563807439, 576073699, 576073704, 589508447, 589508451, 589508455, 599626923, 599626927, 606826663, 607344830]\n"
     ]
    }
   ],
   "source": [
    "region_list = level_df['n1327_u32_id'][level_df['n4_u32_id']!=0].tolist()\n",
    "region_list = [r for r in np.unique(level_df['n316_u32_id']).tolist() if r in region_list]\n",
    "print(len(region_list),region_list)"
   ]
  },
  {
   "cell_type": "code",
   "execution_count": 4,
   "metadata": {},
   "outputs": [
    {
     "name": "stdout",
     "output_type": "stream",
     "text": [
      "315 ['TMv', 'IC', 'PSV', 'IF', 'PT', 'IG', 'AAA', 'IGL', 'PVa', 'III', 'PVH', 'ACAd', 'ILA', 'ACAv', 'ACB', 'MT', 'IMD', 'PVHd', 'AD', 'LT', 'ADP', 'DT', 'IO', 'AHN', 'IP', 'DCO', 'IPN', 'VCO', 'AId', 'ISN', 'AIp', 'IV', 'PVi', 'AIv', 'PVp', 'AM', 'MRN', 'LA', 'PVpo', 'AMB', 'IRN', 'PRNr', 'LC', 'PVT', 'AOB', 'LD', 'AON', 'LDT', 'PRP', 'LGd', 'RCH', 'NR', 'LGv', 'RE', 'FRP', 'LH', 'RH', 'LHA', 'RL', 'MV', 'LIN', 'RM', 'AP', 'LAV', 'LM', 'RN', 'APN', 'SUV', 'LP', 'RO', 'ARH', 'SPIV', 'LPO', 'RPA', 'AT', 'LRN', 'RPO', 'RR', 'LSc', 'AV', 'LSr', 'RT', 'AVP', 'LSv', 'SAG', 'AVPV', 'B', 'SCH', 'BAC', 'BA', 'SCm', 'BLA', 'MA', 'SCs', 'MARN', 'SF', 'SG', 'BMA', 'SubG', 'SGN', 'SSp-bfd', 'ASO', 'SH', 'SSp-ll', 'SFO', 'SI', 'SSp-m', 'SBPV', 'SLC', 'BST', 'SSp-n', 'PST', 'SLD', 'SSp-tr', 'MD', 'PSTN', 'SMT', 'SSp-ul', 'ICB', 'SNc', 'SSs', 'SNr', 'CA1', 'VISp', 'SO', 'VISam', 'MDRN', 'SOC', 'VISal', 'MEA', 'VISl', 'SPFm', 'VISrl', 'SPFp', 'CA2', 'VISpl', 'SPVC', 'SPVI', 'SPVO', 'MEPO', 'MEV', 'CA3', 'STN', 'MG', 'MH', 'MM', 'SUB', 'MOB', 'MPN', 'MPO', 'SUM', 'MPT', 'VISpm', 'SUT', 'CEA', 'TEa', 'MS', 'TR', 'TRN', 'CL', 'ACVII', 'NB', 'TRS', 'CLA', 'TT', 'CLI', 'NDB', 'CM', 'NI', 'SPA', 'NLL', 'TU', 'CUN', 'NLOT', 'V', 'NOT', 'VAL', 'NPC', 'COAa', 'NTB', 'COAp', 'NTS', 'VI', 'VII', 'CP', 'VISC', 'CS', 'VM', 'VLPO', 'VMH', 'OP', 'CU', 'VPL', 'ORBl', 'VPLpc', 'DG', 'ORBm', 'VPM', 'VPMpc', 'ORBvl', 'VTA', 'OT', 'VTN', 'OV', 'x', 'XII', 'PA', 'y', 'PAA', 'PAG', 'ZI', 'DP', 'DMH', 'DMX', 'PAR', 'DN', 'PARN', 'PAS', 'PB', 'DR', 'PBG', 'RSPd', 'DTN', 'RSPv', 'RSPagl', 'ECT', 'PCG', 'ECU', 'PCN', 'LING', 'PD', 'ENTl', 'CENT', 'PERI', 'ENTm', 'CUL', 'PF', 'PG', 'DEC', 'FOTU', 'PH', 'PYR', 'EPd', 'UVU', 'PIR', 'EPv', 'NOD', 'PGRNd', 'PL', 'EW', 'PGRNl', 'PMd', 'FC', 'MOp', 'FN', 'MOs', 'FS', 'AUDp', 'PMv', 'SIM', 'AUDd', 'AN', 'AUDv', 'PO', 'GPe', 'PRM', 'AUDpo', 'POL', 'GPi', 'COPY', 'POST', 'GR', 'PFL', 'PP', 'GRN', 'FL', 'PPN', 'GU', 'PPT', 'PPY', 'PR', 'PRE', 'PRNc', 'MDRNd', 'IA', 'MDRNv', 'PS', 'IAD', 'IAM', 'TMd', 'ME', 'SSp-un', 'VISa', 'VISli', 'VISpor', 'ProS', 'APr', 'MA3', 'P5', 'Acs5', 'PC5', 'I5', 'Xi', 'PIL', 'PoT', 'IntG', 'VMPO', 'PeF', 'HATA', 'Pa5', 'VeCB', 'SCO', 'PDTg', 'Pa4', 'PN']\n"
     ]
    }
   ],
   "source": [
    "region_name_list = get_region_name_list(region_list,32)\n",
    "print(len(region_name_list),region_name_list)"
   ]
  },
  {
   "cell_type": "code",
   "execution_count": 5,
   "metadata": {
    "scrolled": true
   },
   "outputs": [
    {
     "name": "stdout",
     "output_type": "stream",
     "text": [
      "838 ['MOp6a', 'AAA', 'ACA', 'ACAd', 'ACAd1', 'ACAd2_3', 'ACAd5', 'ACAd6a', 'ACAd6b', 'ACAv', 'ACAv1', 'ACAv2_3', 'ACAv5', 'ACAv6a', 'ACAv6b', 'ACB', 'aco', 'Acs5', 'act', 'ACVII', 'ADP', 'AHN', 'AI', 'AId', 'AId1', 'AId2_3', 'AId5', 'AId6a', 'AId6b', 'AIp', 'AIp1', 'AIp2_3', 'AIp5', 'AIp6a', 'AIp6b', 'AIv', 'AIv1', 'AIv2_3', 'AIv5', 'AIv6b', 'alv', 'AM', 'AMB', 'AMBd', 'AMBv', 'amc', 'AMd', 'AMv', 'AN', 'ANcr1', 'ANcr2', 'AOB', 'AOBgl', 'AOBgr', 'AOBmi', 'AON', 'AP', 'APN', 'APr', 'ar', 'arb', 'ARH', 'ASO', 'AT', 'ATN', 'AUD', 'AUDd', 'AUDd1', 'AUDd2_3', 'AUDd4', 'AUDd5', 'AUDd6a', 'AUDd6b', 'AUDp', 'AUDp1', 'AUDp2_3', 'AUDp4', 'AUDp5', 'AUDp6b', 'AUDpo', 'AUDpo1', 'AUDpo2_3', 'AUDpo4', 'AUDpo5', 'AUDpo6a', 'AUDpo6b', 'AUDv', 'AUDv1', 'AUDv2_3', 'AUDv4', 'AUDv5', 'AUDv6a', 'AUDv6b', 'AV', 'AVP', 'AVPV', 'B', 'BAC', 'bic', 'BLA', 'BLAa', 'BLAp', 'BLAv', 'BMA', 'BMAa', 'BMAp', 'BS', 'bsc', 'BST', 'c', 'CA', 'CA1', 'CA2', 'CA3', 'CB', 'cbc', 'cbf', 'AD', 'AIv6a', 'AQ', 'AUDp6a', 'BA', 'CBN', 'CLI', 'CUL4__5', 'drt', 'ENTl5', 'fiber_tracts', 'GPi', 'IA', 'ILA6b', 'll', 'MBmot', 'mfbsma', 'cbp', 'CBX', 'cc', 'ccb', 'ccg', 'ccs', 'CEA', 'CEAc', 'CEAl', 'CEAm', 'CENT', 'CENT2', 'CENT3', 'cett', 'CH', 'chpl', 'cic', 'cing', 'CL', 'CLA', 'cm', 'CN', 'CNU', 'COA', 'COAa', 'COAp', 'COApl', 'COApm', 'COPY', 'CP', 'cpd', 'CS', 'csc', 'cst', 'CTX', 'CTXpl', 'CTXsp', 'CU', 'cuf', 'CUL', 'CUN', 'cVIIIn', 'das', 'dc', 'DCN', 'DCO', 'DEC', 'df', 'DG-mo', 'DG-po', 'DG-sg', 'DG', 'dhc', 'DMH', 'DMX', 'DN', 'DORpm', 'DORsm', 'DP', 'DR', 'dscp', 'DT', 'dtd', 'DTN', 'ec', 'ECT', 'ECT1', 'ECT2_3', 'ECT5', 'ECT6a', 'ECT6b', 'ECU', 'ee', 'em', 'ENT', 'ENTl', 'ENTl1', 'ENTl2', 'ENTl3', 'ENTl6a', 'ENTm', 'ENTm1', 'ENTm2', 'ENTm3', 'ENTm5', 'ENTm6', 'EP', 'EPd', 'EPI', 'eps', 'epsc', 'EPv', 'Eth', 'EW', 'fa', 'FC', 'FF', 'fi', 'FL', 'FN', 'FOTU', 'fp', 'fr', 'FRP', 'FRP1', 'FRP2_3', 'FRP5', 'FRP6a', 'FRP6b', 'FS', 'fx', 'fxpo', 'fxs', 'GENd', 'GENv', 'GPe', 'GR', 'grey', 'GRN', 'GU', 'GU1', 'GU2_3', 'GU4', 'GU5', 'GU6a', 'GU6b', 'gVIIn', 'HATA', 'HB', 'hbc', 'hc', 'HEM', 'HIP', 'HPF', 'HY', 'I5', 'IAD', 'IAM', 'IB', 'IC', 'ICB', 'ICc', 'ICd', 'ICe', 'icp', 'IF', 'IG', 'IGL', 'III', 'IIIn', 'IIn', 'ILA', 'ILA1', 'ILA2_3', 'ILA5', 'ILA6a', 'ILM', 'IMD', 'In', 'INC', 'int', 'IntG', 'IO', 'IP', 'IPA', 'IPC', 'IPDL', 'IPDM', 'IPI', 'IPL', 'IPN', 'IPR', 'IPRL', 'IRN', 'ISN', 'Isocortex', 'IV', 'IVn', 'KF', 'LA', 'LAT', 'LAV', 'LC', 'LD', 'LDT', 'lfbs', 'lfbst', 'LGd-co', 'LGd-ip', 'LGd-sh', 'LGd', 'LGv', 'LH', 'LHA', 'LIN', 'LING', 'LM', 'lot', 'lotd', 'lotg', 'LP', 'LPO', 'LRN', 'LRNm', 'LRNp', 'LS', 'LSc', 'LSr', 'LSv', 'LSX', 'LT', 'LZ', 'MA', 'MA3', 'MARN', 'MB', 'MBO', 'MBsen', 'MBsta', 'mcp', 'mct', 'MD', 'MDRN', 'MDRNd', 'MDRNv', 'ME', 'MEA', 'MED', 'MEPO', 'MEV', 'MEZ', 'mfb', 'mfbc', 'mfbs', 'mfbse', 'mfsbshy', 'MG', 'MGd', 'MGm', 'MGv', 'MH', 'ml', 'mlf', 'MM', 'MMd', 'MMl', 'MMm', 'MMme', 'MMp', 'MO', 'MOB', 'MOp', 'MOp1', 'MOp2_3', 'MOp5', 'MOp6b', 'MOs', 'MOs1', 'MOs2_3', 'MOs5', 'MOs6a', 'MOs6b', 'moV', 'mp', 'MPN', 'MPO', 'MPT', 'MRN', 'MS', 'MSC', 'MT', 'mtg', 'MTN', 'mtt', 'MV', 'MY-sat', 'MY-sen', 'MY', 'NB', 'ND', 'NDB', 'NI', 'NLL', 'NLOT', 'NLOT1', 'NLOT2', 'NLOT3', 'NOD', 'NOT', 'NPC', 'NR', 'nst', 'NTB', 'NTS', 'och', 'onl', 'OP', 'opt', 'or', 'ORB', 'ORBl', 'ORBl1', 'ORBl2_3', 'ORBl5', 'ORBl6a', 'ORBl6b', 'ORBm', 'ORBm1', 'ORBm2_3', 'ORBm5', 'ORBm6a', 'ORBm6b', 'ORBvl', 'ORBvl1', 'ORBvl5', 'ORBvl6a', 'ORBvl6b', 'OT', 'OV', 'P-mot', 'P-sat', 'P-sen', 'P', 'P5', 'PA', 'Pa4', 'Pa5', 'PAA', 'PAG', 'PAL', 'PALc', 'PALd', 'PALm', 'PAR', 'PARN', 'PAS', 'PB', 'PBG', 'pc', 'PC5', 'PCG', 'PCN', 'PD', 'PDTg', 'PeF', 'PERI', 'PERI1', 'PERI2_3', 'PERI5', 'PERI6a', 'PERI6b', 'PF', 'PFL', 'PGRN', 'PGRNd', 'PGRNl', 'PH', 'PHY', 'PIL', 'PIR', 'PL', 'PL1', 'PL2_3', 'PL5', 'PL6a', 'PL6b', 'pm', 'PMd', 'PMv', 'PN', 'PO', 'POL', 'POR', 'PoT', 'PP', 'PPN', 'PPT', 'PPY', 'PR', 'PRC', 'PRE', 'PRM', 'PRNc', 'PRNr', 'ProS', 'PRP', 'PRT', 'PS', 'PST', 'PSTN', 'PSV', 'PT', 'PTLp', 'PVH', 'PVHd', 'PVi', 'PVp', 'PVpo', 'PVR', 'PVT', 'PVZ', 'py', 'pyd', 'PYR', 'RAmb', 'RCH', 'RE', 'RH', 'RHP', 'RL', 'RM', 'RN', 'RO', 'RPA', 'RPF', 'RPO', 'RR', 'RSP', 'RSPagl', 'RSPagl1', 'RSPagl2_3', 'RSPagl5', 'RSPagl6a', 'RSPagl6b', 'RSPd', 'RSPd1', 'RSPd2_3', 'RSPd5', 'RSPd6a', 'RSPd6b', 'RSPv', 'RSPv2_3', 'RSPv5', 'RSPv6a', 'RSPv6b', 'RT', 'rust', 'SAG', 'sAMY', 'SBPV', 'SCdg', 'SCdw', 'SCH', 'SCig', 'SCiw', 'SCm', 'SCO', 'SCop', 'scp', 'SCs', 'sctd', 'sctv', 'scwm', 'SCzo', 'SEZ', 'SF', 'SFO', 'SG', 'SGN', 'SH', 'SI', 'SIM', 'SLC', 'SLD', 'sm', 'SMT', 'SNc', 'SNr', 'SO', 'SOC', 'SOCm', 'SPA', 'SPF', 'SPFm', 'SPFp', 'SPIV', 'sptV', 'SPVC', 'SPVI', 'SPVO', 'SS', 'SSp-bfd', 'SSp-bfd1', 'SSp-bfd2_3', 'SSp-bfd4', 'SSp-bfd5', 'SSp-bfd6a', 'SSp-bfd6b', 'SSp-ll', 'SSp-ll1', 'SSp-ll2_3', 'SSp-ll4', 'SSp-ll5', 'SSp-ll6a', 'SSp-ll6b', 'SSp-m', 'SSp-m1', 'SSp-m2_3', 'SSp-m4', 'SSp-m5', 'SSp-m6a', 'SSp-m6b', 'SSp-n', 'SSp-n2_3', 'SSp-n4', 'SSp-n5', 'SSp-n6a', 'SSp-n6b', 'SSp-tr', 'SSp-tr1', 'SSp-tr2_3', 'SSp-tr4', 'SSp-tr5', 'SSp-tr6a', 'SSp-tr6b', 'SSp-ul', 'SSp-ul1', 'SSp-ul2_3', 'SSp-ul4', 'SSp-ul5', 'SSp-ul6b', 'SSp-un', 'SSp-un1', 'SSp-un2_3', 'SSp-un4', 'SSp-un5', 'SSp-un6a', 'SSp-un6b', 'SSp', 'SSs', 'SSs1', 'SSs2_3', 'SSs4', 'SSs5', 'SSs6a', 'SSs6b', 'stc', 'STN', 'STR', 'STRd', 'STRv', 'Su3', 'SUB', 'SubG', 'SUM', 'sup', 'SUT', 'SUV', 'sV', 'tb', 'TEa', 'TEa1', 'TEa2_3', 'TEa4', 'TEa5', 'TEa6a', 'TH', 'TM', 'TMd', 'TMv', 'TR', 'TRN', 'TRS', 'ts', 'tsp', 'tspc', 'tspd', 'TT', 'TTd', 'TTv', 'TU', 'uf', 'UVU', 'V', 'V3', 'V4', 'VAL', 'VCO', 'VeCB', 'VENT', 'VERM', 'vhc', 'VI', 'VII', 'VIIIn', 'VIIn', 'VIS', 'VISa', 'VISa1', 'VISa2_3', 'VISa4', 'VISa5', 'VISa6a', 'VISa6b', 'VISal', 'VISal2_3', 'VISal4', 'VISal5', 'VISal6a', 'VISal6b', 'VISam', 'VISam1', 'VISam2_3', 'VISam4', 'VISam5', 'VISam6a', 'VISam6b', 'VISC', 'VISC1', 'VISC2_3', 'VISC4', 'VISC5', 'VISC6a', 'VISC6b', 'MY-mot', 'OLF', 'ORBvl2_3', 'PALv', 'PG', 'POST', 'PVa', 'root', 'RSPv1', 'SCsg', 'SOCl', 'SSp-n1', 'SSp-ul6a', 'st', 'TEa6b', 'V4r', 'VISal1', 'VISl', 'VISp6b', 'VISpor5', 'VISl1', 'VISl2_3', 'VISl4', 'VISl5', 'VISl6a', 'VISl6b', 'VISli', 'VISli1', 'VISli2_3', 'VISli4', 'VISli5', 'VISli6a', 'VISli6b', 'VISp', 'VISp1', 'VISp2_3', 'VISp4', 'VISp5', 'VISp6a', 'VISpl', 'VISpl1', 'VISpl2_3', 'VISpl4', 'VISpl5', 'VISpl6a', 'VISpl6b', 'VISpm', 'VISpm1', 'VISpm2_3', 'VISpm4', 'VISpm5', 'VISpm6a', 'VISpm6b', 'VISpor', 'VISpor1', 'VISpor2_3', 'VISpor4', 'VISpor6a', 'VISpor6b', 'VISrl', 'VISrl1', 'VISrl2_3', 'VISrl4', 'VISrl5', 'VISrl6a', 'VISrl6b', 'VL', 'VLPO', 'VM', 'VMH', 'VMPO', 'Vn', 'VNC', 'von', 'VP', 'VPL', 'VPLpc', 'VPM', 'VPMpc', 'VS', 'VTA', 'vtd', 'VTN', 'vVIIIn', 'x', 'Xi', 'XII', 'Xn', 'y', 'ZI']\n"
     ]
    }
   ],
   "source": [
    "plot_list = [v[:-4] for v in os.listdir('../vtk')]\n",
    "print(len(plot_list),plot_list)"
   ]
  },
  {
   "cell_type": "code",
   "execution_count": 6,
   "metadata": {},
   "outputs": [
    {
     "name": "stdout",
     "output_type": "stream",
     "text": [
      "314\n"
     ]
    }
   ],
   "source": [
    "os.makedirs('region',exist_ok=True)\n",
    "rr = 0\n",
    "for u32_id,region in zip(region_list,region_name_list):\n",
    "    if region in plot_list:\n",
    "        r,g,b = get_region_rgb_list([u32_id],uint=32)[0]\n",
    "        vtkfile = '/media/lyf/Carry/paper/vtk/'+region+'.vtk'\n",
    "        cpfile = '/media/lyf/Carry/paper/fig1aregions/region/'+f'r{r}_g{g}_b{b}_'+region+'.vtk'\n",
    "        cp_str = f'cp {vtkfile} {cpfile}'\n",
    "        #print(cp_str)\n",
    "        os.system(cp_str)\n",
    "        rr += 1\n",
    "print(rr)"
   ]
  }
 ],
 "metadata": {
  "kernelspec": {
   "display_name": "Python 3",
   "language": "python",
   "name": "python3"
  },
  "language_info": {
   "codemirror_mode": {
    "name": "ipython",
    "version": 3
   },
   "file_extension": ".py",
   "mimetype": "text/x-python",
   "name": "python",
   "nbconvert_exporter": "python",
   "pygments_lexer": "ipython3",
   "version": "3.8.5"
  }
 },
 "nbformat": 4,
 "nbformat_minor": 4
}
